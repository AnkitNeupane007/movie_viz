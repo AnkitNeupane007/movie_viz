{
 "cells": [
  {
   "cell_type": "code",
   "execution_count": 1,
   "id": "2d13ad67-5eae-41d0-b53d-d4aeee4b15b1",
   "metadata": {},
   "outputs": [],
   "source": [
    "import pandas as pd\n",
    "import ast"
   ]
  },
  {
   "cell_type": "code",
   "execution_count": 2,
   "id": "ebec623d-41ec-4a68-937f-25e022a530dd",
   "metadata": {},
   "outputs": [],
   "source": [
    "df = pd.read_csv('movie_dataset.csv', encoding = 'utf-8')"
   ]
  },
  {
   "cell_type": "code",
   "execution_count": 3,
   "id": "4fe6b70e-f69c-4847-affb-639e0ce088ba",
   "metadata": {},
   "outputs": [],
   "source": [
    "df =  df[['title', 'release_date', 'runtime', 'tagline', 'overview', 'budget', 'revenue',  'original_language', 'genres', 'cast', 'director',  'production_companies', 'vote_average', 'vote_count']]"
   ]
  },
  {
   "cell_type": "code",
   "execution_count": 4,
   "id": "dd7319b7-ff21-4a0f-83e0-804b65689e8c",
   "metadata": {},
   "outputs": [],
   "source": [
    "df = df.dropna()"
   ]
  },
  {
   "cell_type": "code",
   "execution_count": 5,
   "id": "c81d5478-13d5-42a2-8c21-cbf1900e1211",
   "metadata": {},
   "outputs": [],
   "source": [
    "df = df[~((df['budget'] < 1000) | (df['revenue'] < 1000))]"
   ]
  },
  {
   "cell_type": "code",
   "execution_count": 6,
   "id": "4dd307c3-e361-4f46-9cd1-63d46a605455",
   "metadata": {},
   "outputs": [],
   "source": [
    "df = df[~((df['vote_average'] == 0) | (df['vote_count'] == 0))]"
   ]
  },
  {
   "cell_type": "code",
   "execution_count": 7,
   "id": "86b8510f-8c37-42a9-9a03-87552c13967d",
   "metadata": {},
   "outputs": [],
   "source": [
    "df = df[~(df['production_companies'] == '[]')]"
   ]
  },
  {
   "cell_type": "code",
   "execution_count": 8,
   "id": "f516893f-fe47-42d3-9b71-04697ec32052",
   "metadata": {},
   "outputs": [],
   "source": [
    "df['genres'] = df['genres'].str.replace('Science Fiction', 'Sci-Fi', regex=False)"
   ]
  },
  {
   "cell_type": "code",
   "execution_count": 9,
   "id": "0555b4b0-e4a1-4413-a8d1-e0e4f4118d8f",
   "metadata": {},
   "outputs": [],
   "source": [
    "df['production_companies'] = df['production_companies'].apply(lambda x: ast.literal_eval(x)[0])"
   ]
  },
  {
   "cell_type": "code",
   "execution_count": 10,
   "id": "bd1f07b3-8915-4494-85c0-b79d36668282",
   "metadata": {},
   "outputs": [],
   "source": [
    "df['production_companies'] = df['production_companies'].apply(lambda x: x['name'])"
   ]
  },
  {
   "cell_type": "code",
   "execution_count": 11,
   "id": "56ad4641-d3eb-4a02-9e55-a3fe0dc24b89",
   "metadata": {},
   "outputs": [],
   "source": [
    "df.reset_index(inplace=True)"
   ]
  },
  {
   "cell_type": "code",
   "execution_count": 12,
   "id": "324a68cf-1928-4278-a47a-247dd61a8d7d",
   "metadata": {},
   "outputs": [],
   "source": [
    "df['index'] = df.index.astype(str)"
   ]
  },
  {
   "cell_type": "code",
   "execution_count": 13,
   "id": "a7e8a7b7-8733-4827-9063-d7a91b7afd76",
   "metadata": {},
   "outputs": [],
   "source": [
    "df =  df[['index', 'title', 'release_date', 'runtime', 'tagline', 'overview', 'budget', 'revenue',  'original_language', 'genres', 'cast', 'director',  'production_companies', 'vote_average', 'vote_count']]"
   ]
  },
  {
   "cell_type": "code",
   "execution_count": 14,
   "id": "560dcb57-fbef-4479-a8ed-fe785049abbe",
   "metadata": {},
   "outputs": [],
   "source": [
    "for column in df.select_dtypes(include='object').columns:\n",
    "    df[column] = df[column].apply(lambda x: x.encode('utf-8').decode('unicode-escape') if isinstance(x, str) else x)"
   ]
  },
  {
   "cell_type": "code",
   "execution_count": 15,
   "id": "259945dc-a78e-44e1-a0dd-a5a4f12f5e55",
   "metadata": {},
   "outputs": [],
   "source": [
    "for column in df.select_dtypes(include='object').columns:\n",
    "    df[column] = df[column].apply(lambda x: x.encode('latin-1', errors='ignore').decode('utf-8', errors='ignore') if isinstance(x, str) else x)"
   ]
  },
  {
   "cell_type": "code",
   "execution_count": 16,
   "id": "7c5eb9db-8253-4c10-a584-a60040398231",
   "metadata": {},
   "outputs": [],
   "source": [
    "df = df[~(df['title'] == '')]"
   ]
  },
  {
   "cell_type": "code",
   "execution_count": 17,
   "id": "6a01b1f1-f076-455c-919d-3f594d0bebc3",
   "metadata": {},
   "outputs": [
    {
     "data": {
      "text/plain": [
       "'Les Misérables'"
      ]
     },
     "execution_count": 17,
     "metadata": {},
     "output_type": "execute_result"
    }
   ],
   "source": [
    "df['title'][601]"
   ]
  },
  {
   "cell_type": "code",
   "execution_count": 18,
   "id": "5ed1a9ad-6a04-4cad-8fa3-f45bcbfcf913",
   "metadata": {},
   "outputs": [
    {
     "data": {
      "text/plain": [
       "'Daniel Craig Christoph Waltz La Seydoux Ralph Fiennes Monica Bellucci'"
      ]
     },
     "execution_count": 18,
     "metadata": {},
     "output_type": "execute_result"
    }
   ],
   "source": [
    "df['cast'][2]"
   ]
  },
  {
   "cell_type": "code",
   "execution_count": 19,
   "id": "73640fe9-0db5-4c58-acf5-6f3f6cac0961",
   "metadata": {},
   "outputs": [
    {
     "data": {
      "text/html": [
       "<div>\n",
       "<style scoped>\n",
       "    .dataframe tbody tr th:only-of-type {\n",
       "        vertical-align: middle;\n",
       "    }\n",
       "\n",
       "    .dataframe tbody tr th {\n",
       "        vertical-align: top;\n",
       "    }\n",
       "\n",
       "    .dataframe thead th {\n",
       "        text-align: right;\n",
       "    }\n",
       "</style>\n",
       "<table border=\"1\" class=\"dataframe\">\n",
       "  <thead>\n",
       "    <tr style=\"text-align: right;\">\n",
       "      <th></th>\n",
       "      <th>index</th>\n",
       "      <th>title</th>\n",
       "      <th>release_date</th>\n",
       "      <th>runtime</th>\n",
       "      <th>tagline</th>\n",
       "      <th>overview</th>\n",
       "      <th>budget</th>\n",
       "      <th>revenue</th>\n",
       "      <th>original_language</th>\n",
       "      <th>genres</th>\n",
       "      <th>cast</th>\n",
       "      <th>director</th>\n",
       "      <th>production_companies</th>\n",
       "      <th>vote_average</th>\n",
       "      <th>vote_count</th>\n",
       "    </tr>\n",
       "  </thead>\n",
       "  <tbody>\n",
       "    <tr>\n",
       "      <th>0</th>\n",
       "      <td>0</td>\n",
       "      <td>Avatar</td>\n",
       "      <td>2009-12-10</td>\n",
       "      <td>162.0</td>\n",
       "      <td>Enter the World of Pandora.</td>\n",
       "      <td>In the 22nd century, a paraplegic Marine is di...</td>\n",
       "      <td>237000000</td>\n",
       "      <td>2787965087</td>\n",
       "      <td>en</td>\n",
       "      <td>Action Adventure Fantasy Sci-Fi</td>\n",
       "      <td>Sam Worthington Zoe Saldana Sigourney Weaver S...</td>\n",
       "      <td>James Cameron</td>\n",
       "      <td>Ingenious Film Partners</td>\n",
       "      <td>7.2</td>\n",
       "      <td>11800</td>\n",
       "    </tr>\n",
       "    <tr>\n",
       "      <th>1</th>\n",
       "      <td>1</td>\n",
       "      <td>Pirates of the Caribbean: At World's End</td>\n",
       "      <td>2007-05-19</td>\n",
       "      <td>169.0</td>\n",
       "      <td>At the end of the world, the adventure begins.</td>\n",
       "      <td>Captain Barbossa, long believed to be dead, ha...</td>\n",
       "      <td>300000000</td>\n",
       "      <td>961000000</td>\n",
       "      <td>en</td>\n",
       "      <td>Adventure Fantasy Action</td>\n",
       "      <td>Johnny Depp Orlando Bloom Keira Knightley Stel...</td>\n",
       "      <td>Gore Verbinski</td>\n",
       "      <td>Walt Disney Pictures</td>\n",
       "      <td>6.9</td>\n",
       "      <td>4500</td>\n",
       "    </tr>\n",
       "    <tr>\n",
       "      <th>2</th>\n",
       "      <td>2</td>\n",
       "      <td>Spectre</td>\n",
       "      <td>2015-10-26</td>\n",
       "      <td>148.0</td>\n",
       "      <td>A Plan No One Escapes</td>\n",
       "      <td>A cryptic message from Bond’s past sends him o...</td>\n",
       "      <td>245000000</td>\n",
       "      <td>880674609</td>\n",
       "      <td>en</td>\n",
       "      <td>Action Adventure Crime</td>\n",
       "      <td>Daniel Craig Christoph Waltz La Seydoux Ralph ...</td>\n",
       "      <td>Sam Mendes</td>\n",
       "      <td>Columbia Pictures</td>\n",
       "      <td>6.3</td>\n",
       "      <td>4466</td>\n",
       "    </tr>\n",
       "    <tr>\n",
       "      <th>3</th>\n",
       "      <td>3</td>\n",
       "      <td>The Dark Knight Rises</td>\n",
       "      <td>2012-07-16</td>\n",
       "      <td>165.0</td>\n",
       "      <td>The Legend Ends</td>\n",
       "      <td>Following the death of District Attorney Harve...</td>\n",
       "      <td>250000000</td>\n",
       "      <td>1084939099</td>\n",
       "      <td>en</td>\n",
       "      <td>Action Crime Drama Thriller</td>\n",
       "      <td>Christian Bale Michael Caine Gary Oldman Anne ...</td>\n",
       "      <td>Christopher Nolan</td>\n",
       "      <td>Legendary Pictures</td>\n",
       "      <td>7.6</td>\n",
       "      <td>9106</td>\n",
       "    </tr>\n",
       "    <tr>\n",
       "      <th>4</th>\n",
       "      <td>4</td>\n",
       "      <td>John Carter</td>\n",
       "      <td>2012-03-07</td>\n",
       "      <td>132.0</td>\n",
       "      <td>Lost in our world, found in another.</td>\n",
       "      <td>John Carter is a war-weary, former military ca...</td>\n",
       "      <td>260000000</td>\n",
       "      <td>284139100</td>\n",
       "      <td>en</td>\n",
       "      <td>Action Adventure Sci-Fi</td>\n",
       "      <td>Taylor Kitsch Lynn Collins Samantha Morton Wil...</td>\n",
       "      <td>Andrew Stanton</td>\n",
       "      <td>Walt Disney Pictures</td>\n",
       "      <td>6.1</td>\n",
       "      <td>2124</td>\n",
       "    </tr>\n",
       "    <tr>\n",
       "      <th>...</th>\n",
       "      <td>...</td>\n",
       "      <td>...</td>\n",
       "      <td>...</td>\n",
       "      <td>...</td>\n",
       "      <td>...</td>\n",
       "      <td>...</td>\n",
       "      <td>...</td>\n",
       "      <td>...</td>\n",
       "      <td>...</td>\n",
       "      <td>...</td>\n",
       "      <td>...</td>\n",
       "      <td>...</td>\n",
       "      <td>...</td>\n",
       "      <td>...</td>\n",
       "      <td>...</td>\n",
       "    </tr>\n",
       "    <tr>\n",
       "      <th>2946</th>\n",
       "      <td>2946</td>\n",
       "      <td>Clerks</td>\n",
       "      <td>1994-09-13</td>\n",
       "      <td>92.0</td>\n",
       "      <td>Just because they serve you doesn't mean they ...</td>\n",
       "      <td>Convenience and video store clerks Dante and R...</td>\n",
       "      <td>27000</td>\n",
       "      <td>3151130</td>\n",
       "      <td>en</td>\n",
       "      <td>Comedy</td>\n",
       "      <td>Brian O'Halloran Jeff Anderson Jason Mewes Kev...</td>\n",
       "      <td>Kevin Smith</td>\n",
       "      <td>Miramax Films</td>\n",
       "      <td>7.4</td>\n",
       "      <td>755</td>\n",
       "    </tr>\n",
       "    <tr>\n",
       "      <th>2947</th>\n",
       "      <td>2947</td>\n",
       "      <td>Pink Flamingos</td>\n",
       "      <td>1972-03-12</td>\n",
       "      <td>93.0</td>\n",
       "      <td>An exercise in poor taste.</td>\n",
       "      <td>Notorious Baltimore criminal and underground f...</td>\n",
       "      <td>12000</td>\n",
       "      <td>6000000</td>\n",
       "      <td>en</td>\n",
       "      <td>Horror Comedy Crime</td>\n",
       "      <td>Divine David Lochary Mary Vivian Pearce Mink S...</td>\n",
       "      <td>John Waters</td>\n",
       "      <td>Dreamland Productions</td>\n",
       "      <td>6.2</td>\n",
       "      <td>110</td>\n",
       "    </tr>\n",
       "    <tr>\n",
       "      <th>2948</th>\n",
       "      <td>2948</td>\n",
       "      <td>Cure</td>\n",
       "      <td>1997-11-06</td>\n",
       "      <td>111.0</td>\n",
       "      <td>Madness. Terror. Murder.</td>\n",
       "      <td>A wave of gruesome murders is sweeping Tokyo. ...</td>\n",
       "      <td>20000</td>\n",
       "      <td>99000</td>\n",
       "      <td>ja</td>\n",
       "      <td>Crime Horror Mystery Thriller</td>\n",
       "      <td>Koji Yakusho Masato Hagiwara Tsuyoshi Ujiki An...</td>\n",
       "      <td>Kiyoshi Kurosawa</td>\n",
       "      <td>Daiei Studios</td>\n",
       "      <td>7.4</td>\n",
       "      <td>63</td>\n",
       "    </tr>\n",
       "    <tr>\n",
       "      <th>2949</th>\n",
       "      <td>2949</td>\n",
       "      <td>Primer</td>\n",
       "      <td>2004-10-08</td>\n",
       "      <td>77.0</td>\n",
       "      <td>What happens if it actually works?</td>\n",
       "      <td>Friends/fledgling entrepreneurs invent a devic...</td>\n",
       "      <td>7000</td>\n",
       "      <td>424760</td>\n",
       "      <td>en</td>\n",
       "      <td>Sci-Fi Drama Thriller</td>\n",
       "      <td>Shane Carruth David Sullivan Casey Gooden Anan...</td>\n",
       "      <td>Shane Carruth</td>\n",
       "      <td>Thinkfilm</td>\n",
       "      <td>6.9</td>\n",
       "      <td>658</td>\n",
       "    </tr>\n",
       "    <tr>\n",
       "      <th>2950</th>\n",
       "      <td>2950</td>\n",
       "      <td>El Mariachi</td>\n",
       "      <td>1992-09-04</td>\n",
       "      <td>81.0</td>\n",
       "      <td>He didn't come looking for trouble, but troubl...</td>\n",
       "      <td>El Mariachi just wants to play his guitar and ...</td>\n",
       "      <td>220000</td>\n",
       "      <td>2040920</td>\n",
       "      <td>es</td>\n",
       "      <td>Action Crime Thriller</td>\n",
       "      <td>Carlos Gallardo Jaime de Hoyos Peter Marquardt...</td>\n",
       "      <td>Robert Rodriguez</td>\n",
       "      <td>Columbia Pictures</td>\n",
       "      <td>6.6</td>\n",
       "      <td>238</td>\n",
       "    </tr>\n",
       "  </tbody>\n",
       "</table>\n",
       "<p>2951 rows × 15 columns</p>\n",
       "</div>"
      ],
      "text/plain": [
       "     index                                     title release_date  runtime  \\\n",
       "0        0                                    Avatar   2009-12-10    162.0   \n",
       "1        1  Pirates of the Caribbean: At World's End   2007-05-19    169.0   \n",
       "2        2                                   Spectre   2015-10-26    148.0   \n",
       "3        3                     The Dark Knight Rises   2012-07-16    165.0   \n",
       "4        4                               John Carter   2012-03-07    132.0   \n",
       "...    ...                                       ...          ...      ...   \n",
       "2946  2946                                    Clerks   1994-09-13     92.0   \n",
       "2947  2947                            Pink Flamingos   1972-03-12     93.0   \n",
       "2948  2948                                      Cure   1997-11-06    111.0   \n",
       "2949  2949                                    Primer   2004-10-08     77.0   \n",
       "2950  2950                               El Mariachi   1992-09-04     81.0   \n",
       "\n",
       "                                                tagline  \\\n",
       "0                           Enter the World of Pandora.   \n",
       "1        At the end of the world, the adventure begins.   \n",
       "2                                 A Plan No One Escapes   \n",
       "3                                       The Legend Ends   \n",
       "4                  Lost in our world, found in another.   \n",
       "...                                                 ...   \n",
       "2946  Just because they serve you doesn't mean they ...   \n",
       "2947                         An exercise in poor taste.   \n",
       "2948                           Madness. Terror. Murder.   \n",
       "2949                 What happens if it actually works?   \n",
       "2950  He didn't come looking for trouble, but troubl...   \n",
       "\n",
       "                                               overview     budget  \\\n",
       "0     In the 22nd century, a paraplegic Marine is di...  237000000   \n",
       "1     Captain Barbossa, long believed to be dead, ha...  300000000   \n",
       "2     A cryptic message from Bond’s past sends him o...  245000000   \n",
       "3     Following the death of District Attorney Harve...  250000000   \n",
       "4     John Carter is a war-weary, former military ca...  260000000   \n",
       "...                                                 ...        ...   \n",
       "2946  Convenience and video store clerks Dante and R...      27000   \n",
       "2947  Notorious Baltimore criminal and underground f...      12000   \n",
       "2948  A wave of gruesome murders is sweeping Tokyo. ...      20000   \n",
       "2949  Friends/fledgling entrepreneurs invent a devic...       7000   \n",
       "2950  El Mariachi just wants to play his guitar and ...     220000   \n",
       "\n",
       "         revenue original_language                           genres  \\\n",
       "0     2787965087                en  Action Adventure Fantasy Sci-Fi   \n",
       "1      961000000                en         Adventure Fantasy Action   \n",
       "2      880674609                en           Action Adventure Crime   \n",
       "3     1084939099                en      Action Crime Drama Thriller   \n",
       "4      284139100                en          Action Adventure Sci-Fi   \n",
       "...          ...               ...                              ...   \n",
       "2946     3151130                en                           Comedy   \n",
       "2947     6000000                en              Horror Comedy Crime   \n",
       "2948       99000                ja    Crime Horror Mystery Thriller   \n",
       "2949      424760                en            Sci-Fi Drama Thriller   \n",
       "2950     2040920                es            Action Crime Thriller   \n",
       "\n",
       "                                                   cast           director  \\\n",
       "0     Sam Worthington Zoe Saldana Sigourney Weaver S...      James Cameron   \n",
       "1     Johnny Depp Orlando Bloom Keira Knightley Stel...     Gore Verbinski   \n",
       "2     Daniel Craig Christoph Waltz La Seydoux Ralph ...         Sam Mendes   \n",
       "3     Christian Bale Michael Caine Gary Oldman Anne ...  Christopher Nolan   \n",
       "4     Taylor Kitsch Lynn Collins Samantha Morton Wil...     Andrew Stanton   \n",
       "...                                                 ...                ...   \n",
       "2946  Brian O'Halloran Jeff Anderson Jason Mewes Kev...        Kevin Smith   \n",
       "2947  Divine David Lochary Mary Vivian Pearce Mink S...        John Waters   \n",
       "2948  Koji Yakusho Masato Hagiwara Tsuyoshi Ujiki An...   Kiyoshi Kurosawa   \n",
       "2949  Shane Carruth David Sullivan Casey Gooden Anan...      Shane Carruth   \n",
       "2950  Carlos Gallardo Jaime de Hoyos Peter Marquardt...   Robert Rodriguez   \n",
       "\n",
       "         production_companies  vote_average  vote_count  \n",
       "0     Ingenious Film Partners           7.2       11800  \n",
       "1        Walt Disney Pictures           6.9        4500  \n",
       "2           Columbia Pictures           6.3        4466  \n",
       "3          Legendary Pictures           7.6        9106  \n",
       "4        Walt Disney Pictures           6.1        2124  \n",
       "...                       ...           ...         ...  \n",
       "2946            Miramax Films           7.4         755  \n",
       "2947    Dreamland Productions           6.2         110  \n",
       "2948            Daiei Studios           7.4          63  \n",
       "2949                Thinkfilm           6.9         658  \n",
       "2950        Columbia Pictures           6.6         238  \n",
       "\n",
       "[2951 rows x 15 columns]"
      ]
     },
     "execution_count": 19,
     "metadata": {},
     "output_type": "execute_result"
    }
   ],
   "source": [
    "df"
   ]
  },
  {
   "cell_type": "code",
   "execution_count": 21,
   "id": "999ce024-b98c-435a-8f71-7f6a49cbd2eb",
   "metadata": {},
   "outputs": [],
   "source": [
    "df.to_csv('draft.csv', index = False)"
   ]
  },
  {
   "cell_type": "code",
   "execution_count": null,
   "id": "ae8d9bda-424f-4ce2-9ef5-7fb8d331418f",
   "metadata": {},
   "outputs": [],
   "source": []
  }
 ],
 "metadata": {
  "kernelspec": {
   "display_name": "Python 3 (ipykernel)",
   "language": "python",
   "name": "python3"
  },
  "language_info": {
   "codemirror_mode": {
    "name": "ipython",
    "version": 3
   },
   "file_extension": ".py",
   "mimetype": "text/x-python",
   "name": "python",
   "nbconvert_exporter": "python",
   "pygments_lexer": "ipython3",
   "version": "3.11.9"
  }
 },
 "nbformat": 4,
 "nbformat_minor": 5
}
