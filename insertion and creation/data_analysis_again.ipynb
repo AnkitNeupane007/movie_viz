{
 "cells": [
  {
   "cell_type": "code",
   "execution_count": 1,
   "id": "e12eada6-e771-43c2-b018-4f97864fb6ef",
   "metadata": {},
   "outputs": [],
   "source": [
    "import pandas as pd"
   ]
  },
  {
   "cell_type": "code",
   "execution_count": 8,
   "id": "79a44927-c0cb-4642-af23-633814e06eff",
   "metadata": {},
   "outputs": [],
   "source": [
    "df = pd.read_csv('draft.csv')"
   ]
  },
  {
   "cell_type": "code",
   "execution_count": 12,
   "id": "f26edc73-ae1d-4506-8681-103b8edeb88d",
   "metadata": {},
   "outputs": [],
   "source": [
    "df = df.drop(columns = ['index'])"
   ]
  },
  {
   "cell_type": "code",
   "execution_count": 13,
   "id": "32bc1977-2805-4b14-a70d-d5ed1fcf917a",
   "metadata": {},
   "outputs": [],
   "source": [
    "df = df[~(df['cast'].isnull())]"
   ]
  },
  {
   "cell_type": "code",
   "execution_count": 15,
   "id": "553acf28-06fe-4afb-b4a1-b04b399e360b",
   "metadata": {},
   "outputs": [],
   "source": [
    "df.to_csv('movies.csv', index = False)"
   ]
  },
  {
   "cell_type": "code",
   "execution_count": null,
   "id": "29cf1153-33f2-4d9e-a4d4-904284cf1517",
   "metadata": {},
   "outputs": [],
   "source": []
  }
 ],
 "metadata": {
  "kernelspec": {
   "display_name": "Python 3 (ipykernel)",
   "language": "python",
   "name": "python3"
  },
  "language_info": {
   "codemirror_mode": {
    "name": "ipython",
    "version": 3
   },
   "file_extension": ".py",
   "mimetype": "text/x-python",
   "name": "python",
   "nbconvert_exporter": "python",
   "pygments_lexer": "ipython3",
   "version": "3.11.9"
  }
 },
 "nbformat": 4,
 "nbformat_minor": 5
}
